{
 "cells": [
  {
   "cell_type": "markdown",
   "metadata": {},
   "source": [
    "## コンジョイント分析  \n",
    "QRコードに対する支払い意思額の推定  \n",
    "2021/12/27 酒井悠衣"
   ]
  },
  {
   "cell_type": "markdown",
   "metadata": {},
   "source": [
    "### ライブラリのインポート"
   ]
  },
  {
   "cell_type": "code",
   "execution_count": 1,
   "metadata": {},
   "outputs": [],
   "source": [
    "import matplotlib.pyplot as plt\n",
    "import numpy as np\n",
    "import pandas as pd\n",
    "import statsmodels.api as sm\n",
    "import seaborn as sns\n",
    "plt.style.use('bmh')"
   ]
  },
  {
   "cell_type": "markdown",
   "metadata": {
    "scrolled": true
   },
   "source": [
    "### データの読み込み"
   ]
  },
  {
   "cell_type": "markdown",
   "metadata": {},
   "source": [
    "### 前処理  \n",
    "1) コンジョイント分析に不要な変数を削除する：df.drop関数を利用する"
   ]
  },
  {
   "cell_type": "code",
   "execution_count": 2,
   "metadata": {},
   "outputs": [],
   "source": [
    "dfAll_renamed = pd.read_csv('chap8_2_Data.csv')"
   ]
  },
  {
   "cell_type": "code",
   "execution_count": 4,
   "metadata": {},
   "outputs": [
    {
     "data": {
      "text/html": [
       "<div>\n",
       "<style scoped>\n",
       "    .dataframe tbody tr th:only-of-type {\n",
       "        vertical-align: middle;\n",
       "    }\n",
       "\n",
       "    .dataframe tbody tr th {\n",
       "        vertical-align: top;\n",
       "    }\n",
       "\n",
       "    .dataframe thead th {\n",
       "        text-align: right;\n",
       "    }\n",
       "</style>\n",
       "<table border=\"1\" class=\"dataframe\">\n",
       "  <thead>\n",
       "    <tr style=\"text-align: right;\">\n",
       "      <th></th>\n",
       "      <th>price</th>\n",
       "      <th>timeToSta</th>\n",
       "      <th>isParking</th>\n",
       "      <th>direction</th>\n",
       "    </tr>\n",
       "  </thead>\n",
       "  <tbody>\n",
       "    <tr>\n",
       "      <th>0</th>\n",
       "      <td>1</td>\n",
       "      <td>1</td>\n",
       "      <td>1</td>\n",
       "      <td>2</td>\n",
       "    </tr>\n",
       "    <tr>\n",
       "      <th>1</th>\n",
       "      <td>1</td>\n",
       "      <td>1</td>\n",
       "      <td>2</td>\n",
       "      <td>1</td>\n",
       "    </tr>\n",
       "    <tr>\n",
       "      <th>2</th>\n",
       "      <td>1</td>\n",
       "      <td>2</td>\n",
       "      <td>1</td>\n",
       "      <td>1</td>\n",
       "    </tr>\n",
       "    <tr>\n",
       "      <th>3</th>\n",
       "      <td>1</td>\n",
       "      <td>2</td>\n",
       "      <td>2</td>\n",
       "      <td>3</td>\n",
       "    </tr>\n",
       "    <tr>\n",
       "      <th>4</th>\n",
       "      <td>2</td>\n",
       "      <td>2</td>\n",
       "      <td>2</td>\n",
       "      <td>2</td>\n",
       "    </tr>\n",
       "    <tr>\n",
       "      <th>5</th>\n",
       "      <td>2</td>\n",
       "      <td>2</td>\n",
       "      <td>1</td>\n",
       "      <td>1</td>\n",
       "    </tr>\n",
       "    <tr>\n",
       "      <th>6</th>\n",
       "      <td>2</td>\n",
       "      <td>1</td>\n",
       "      <td>2</td>\n",
       "      <td>1</td>\n",
       "    </tr>\n",
       "    <tr>\n",
       "      <th>7</th>\n",
       "      <td>2</td>\n",
       "      <td>1</td>\n",
       "      <td>1</td>\n",
       "      <td>3</td>\n",
       "    </tr>\n",
       "  </tbody>\n",
       "</table>\n",
       "</div>"
      ],
      "text/plain": [
       "   price  timeToSta  isParking  direction\n",
       "0      1          1          1          2\n",
       "1      1          1          2          1\n",
       "2      1          2          1          1\n",
       "3      1          2          2          3\n",
       "4      2          2          2          2\n",
       "5      2          2          1          1\n",
       "6      2          1          2          1\n",
       "7      2          1          1          3"
      ]
     },
     "execution_count": 4,
     "metadata": {},
     "output_type": "execute_result"
    }
   ],
   "source": [
    "# x, y の指定\n",
    "y = pd.DataFrame(dfAll_renamed['score'])\n",
    "x = dfAll_renamed.drop(columns=['score'])\n",
    "x.head(10)"
   ]
  },
  {
   "cell_type": "markdown",
   "metadata": {},
   "source": [
    "### ダミー変数を使用している場合の処理  \n",
    "\"分析にあたりpandasのget_dummiesで説明変数をダミー変数に変換する必要があります。このとき、多重共線性による問題を避けるため、オプションでdrop_first=Trueを設定するようにしましょう。\""
   ]
  },
  {
   "cell_type": "code",
   "execution_count": 5,
   "metadata": {},
   "outputs": [
    {
     "data": {
      "text/html": [
       "<div>\n",
       "<style scoped>\n",
       "    .dataframe tbody tr th:only-of-type {\n",
       "        vertical-align: middle;\n",
       "    }\n",
       "\n",
       "    .dataframe tbody tr th {\n",
       "        vertical-align: top;\n",
       "    }\n",
       "\n",
       "    .dataframe thead th {\n",
       "        text-align: right;\n",
       "    }\n",
       "</style>\n",
       "<table border=\"1\" class=\"dataframe\">\n",
       "  <thead>\n",
       "    <tr style=\"text-align: right;\">\n",
       "      <th></th>\n",
       "      <th>price_2</th>\n",
       "      <th>timeToSta_2</th>\n",
       "      <th>isParking_2</th>\n",
       "      <th>direction_2</th>\n",
       "      <th>direction_3</th>\n",
       "    </tr>\n",
       "  </thead>\n",
       "  <tbody>\n",
       "    <tr>\n",
       "      <th>0</th>\n",
       "      <td>0</td>\n",
       "      <td>0</td>\n",
       "      <td>0</td>\n",
       "      <td>1</td>\n",
       "      <td>0</td>\n",
       "    </tr>\n",
       "    <tr>\n",
       "      <th>1</th>\n",
       "      <td>0</td>\n",
       "      <td>0</td>\n",
       "      <td>1</td>\n",
       "      <td>0</td>\n",
       "      <td>0</td>\n",
       "    </tr>\n",
       "    <tr>\n",
       "      <th>2</th>\n",
       "      <td>0</td>\n",
       "      <td>1</td>\n",
       "      <td>0</td>\n",
       "      <td>0</td>\n",
       "      <td>0</td>\n",
       "    </tr>\n",
       "    <tr>\n",
       "      <th>3</th>\n",
       "      <td>0</td>\n",
       "      <td>1</td>\n",
       "      <td>1</td>\n",
       "      <td>0</td>\n",
       "      <td>1</td>\n",
       "    </tr>\n",
       "    <tr>\n",
       "      <th>4</th>\n",
       "      <td>1</td>\n",
       "      <td>1</td>\n",
       "      <td>1</td>\n",
       "      <td>1</td>\n",
       "      <td>0</td>\n",
       "    </tr>\n",
       "  </tbody>\n",
       "</table>\n",
       "</div>"
      ],
      "text/plain": [
       "   price_2  timeToSta_2  isParking_2  direction_2  direction_3\n",
       "0        0            0            0            1            0\n",
       "1        0            0            1            0            0\n",
       "2        0            1            0            0            0\n",
       "3        0            1            1            0            1\n",
       "4        1            1            1            1            0"
      ]
     },
     "execution_count": 5,
     "metadata": {},
     "output_type": "execute_result"
    }
   ],
   "source": [
    "x_dum = pd.get_dummies(x, columns=x.columns, drop_first=True)\n",
    "x_dum.head()"
   ]
  },
  {
   "cell_type": "markdown",
   "metadata": {},
   "source": [
    "### 分析 と結果 \n",
    "今回は11点満点の評価を目的変数とするため、重回帰分析によって分析を行う。偏回帰係数やp値などの分析結果を確認する必要があるため、それらを出力できるstatsmodelsというライブラリを使用する。"
   ]
  },
  {
   "cell_type": "code",
   "execution_count": 7,
   "metadata": {},
   "outputs": [
    {
     "name": "stderr",
     "output_type": "stream",
     "text": [
      "C:\\Users\\itaku\\anaconda3\\envs\\py38_geopanda\\lib\\site-packages\\statsmodels\\tsa\\tsatools.py:142: FutureWarning: In a future version of pandas all arguments of concat except for the argument 'objs' will be keyword-only\n",
      "  x = pd.concat(x[::order], 1)\n",
      "C:\\Users\\itaku\\anaconda3\\envs\\py38_geopanda\\lib\\site-packages\\scipy\\stats\\stats.py:1541: UserWarning: kurtosistest only valid for n>=20 ... continuing anyway, n=8\n",
      "  warnings.warn(\"kurtosistest only valid for n>=20 ... continuing \"\n"
     ]
    },
    {
     "data": {
      "text/html": [
       "<table class=\"simpletable\">\n",
       "<caption>OLS Regression Results</caption>\n",
       "<tr>\n",
       "  <th>Dep. Variable:</th>          <td>score</td>      <th>  R-squared:         </th> <td>   0.996</td>\n",
       "</tr>\n",
       "<tr>\n",
       "  <th>Model:</th>                   <td>OLS</td>       <th>  Adj. R-squared:    </th> <td>   0.986</td>\n",
       "</tr>\n",
       "<tr>\n",
       "  <th>Method:</th>             <td>Least Squares</td>  <th>  F-statistic:       </th> <td>   99.05</td>\n",
       "</tr>\n",
       "<tr>\n",
       "  <th>Date:</th>             <td>Fri, 31 Dec 2021</td> <th>  Prob (F-statistic):</th>  <td>0.0100</td> \n",
       "</tr>\n",
       "<tr>\n",
       "  <th>Time:</th>                 <td>23:01:45</td>     <th>  Log-Likelihood:    </th> <td>  14.113</td>\n",
       "</tr>\n",
       "<tr>\n",
       "  <th>No. Observations:</th>      <td>     8</td>      <th>  AIC:               </th> <td>  -16.23</td>\n",
       "</tr>\n",
       "<tr>\n",
       "  <th>Df Residuals:</th>          <td>     2</td>      <th>  BIC:               </th> <td>  -15.75</td>\n",
       "</tr>\n",
       "<tr>\n",
       "  <th>Df Model:</th>              <td>     5</td>      <th>                     </th>     <td> </td>   \n",
       "</tr>\n",
       "<tr>\n",
       "  <th>Covariance Type:</th>      <td>nonrobust</td>    <th>                     </th>     <td> </td>   \n",
       "</tr>\n",
       "</table>\n",
       "<table class=\"simpletable\">\n",
       "<tr>\n",
       "       <td></td>          <th>coef</th>     <th>std err</th>      <th>t</th>      <th>P>|t|</th>  <th>[0.025</th>    <th>0.975]</th>  \n",
       "</tr>\n",
       "<tr>\n",
       "  <th>const</th>       <td>    6.3375</td> <td>    0.066</td> <td>   96.681</td> <td> 0.000</td> <td>    6.055</td> <td>    6.620</td>\n",
       "</tr>\n",
       "<tr>\n",
       "  <th>price_2</th>     <td>   -1.0250</td> <td>    0.059</td> <td>  -17.482</td> <td> 0.003</td> <td>   -1.277</td> <td>   -0.773</td>\n",
       "</tr>\n",
       "<tr>\n",
       "  <th>timeToSta_2</th> <td>   -0.5750</td> <td>    0.059</td> <td>   -9.807</td> <td> 0.010</td> <td>   -0.827</td> <td>   -0.323</td>\n",
       "</tr>\n",
       "<tr>\n",
       "  <th>isParking_2</th> <td>   -0.0250</td> <td>    0.059</td> <td>   -0.426</td> <td> 0.711</td> <td>   -0.277</td> <td>    0.227</td>\n",
       "</tr>\n",
       "<tr>\n",
       "  <th>direction_2</th> <td>   -0.3750</td> <td>    0.072</td> <td>   -5.222</td> <td> 0.035</td> <td>   -0.684</td> <td>   -0.066</td>\n",
       "</tr>\n",
       "<tr>\n",
       "  <th>direction_3</th> <td>   -0.6750</td> <td>    0.072</td> <td>   -9.400</td> <td> 0.011</td> <td>   -0.984</td> <td>   -0.366</td>\n",
       "</tr>\n",
       "</table>\n",
       "<table class=\"simpletable\">\n",
       "<tr>\n",
       "  <th>Omnibus:</th>       <td> 1.236</td> <th>  Durbin-Watson:     </th> <td>   2.591</td>\n",
       "</tr>\n",
       "<tr>\n",
       "  <th>Prob(Omnibus):</th> <td> 0.539</td> <th>  Jarque-Bera (JB):  </th> <td>   0.627</td>\n",
       "</tr>\n",
       "<tr>\n",
       "  <th>Skew:</th>          <td> 0.000</td> <th>  Prob(JB):          </th> <td>   0.731</td>\n",
       "</tr>\n",
       "<tr>\n",
       "  <th>Kurtosis:</th>      <td> 1.628</td> <th>  Cond. No.          </th> <td>    4.54</td>\n",
       "</tr>\n",
       "</table><br/><br/>Notes:<br/>[1] Standard Errors assume that the covariance matrix of the errors is correctly specified."
      ],
      "text/plain": [
       "<class 'statsmodels.iolib.summary.Summary'>\n",
       "\"\"\"\n",
       "                            OLS Regression Results                            \n",
       "==============================================================================\n",
       "Dep. Variable:                  score   R-squared:                       0.996\n",
       "Model:                            OLS   Adj. R-squared:                  0.986\n",
       "Method:                 Least Squares   F-statistic:                     99.05\n",
       "Date:                Fri, 31 Dec 2021   Prob (F-statistic):             0.0100\n",
       "Time:                        23:01:45   Log-Likelihood:                 14.113\n",
       "No. Observations:                   8   AIC:                            -16.23\n",
       "Df Residuals:                       2   BIC:                            -15.75\n",
       "Df Model:                           5                                         \n",
       "Covariance Type:            nonrobust                                         \n",
       "===============================================================================\n",
       "                  coef    std err          t      P>|t|      [0.025      0.975]\n",
       "-------------------------------------------------------------------------------\n",
       "const           6.3375      0.066     96.681      0.000       6.055       6.620\n",
       "price_2        -1.0250      0.059    -17.482      0.003      -1.277      -0.773\n",
       "timeToSta_2    -0.5750      0.059     -9.807      0.010      -0.827      -0.323\n",
       "isParking_2    -0.0250      0.059     -0.426      0.711      -0.277       0.227\n",
       "direction_2    -0.3750      0.072     -5.222      0.035      -0.684      -0.066\n",
       "direction_3    -0.6750      0.072     -9.400      0.011      -0.984      -0.366\n",
       "==============================================================================\n",
       "Omnibus:                        1.236   Durbin-Watson:                   2.591\n",
       "Prob(Omnibus):                  0.539   Jarque-Bera (JB):                0.627\n",
       "Skew:                           0.000   Prob(JB):                        0.731\n",
       "Kurtosis:                       1.628   Cond. No.                         4.54\n",
       "==============================================================================\n",
       "\n",
       "Notes:\n",
       "[1] Standard Errors assume that the covariance matrix of the errors is correctly specified.\n",
       "\"\"\""
      ]
     },
     "execution_count": 7,
     "metadata": {},
     "output_type": "execute_result"
    }
   ],
   "source": [
    "model = sm.OLS(y, sm.add_constant(x_dum))\n",
    "# result = smf.ols(model, data = df_new).fit\n",
    "result = model.fit()\n",
    "# result = model.fit(x, y)\n",
    "result.summary()"
   ]
  },
  {
   "cell_type": "code",
   "execution_count": 8,
   "metadata": {},
   "outputs": [
    {
     "data": {
      "text/html": [
       "<div>\n",
       "<style scoped>\n",
       "    .dataframe tbody tr th:only-of-type {\n",
       "        vertical-align: middle;\n",
       "    }\n",
       "\n",
       "    .dataframe tbody tr th {\n",
       "        vertical-align: top;\n",
       "    }\n",
       "\n",
       "    .dataframe thead th {\n",
       "        text-align: right;\n",
       "    }\n",
       "</style>\n",
       "<table border=\"1\" class=\"dataframe\">\n",
       "  <thead>\n",
       "    <tr style=\"text-align: right;\">\n",
       "      <th></th>\n",
       "      <th>name</th>\n",
       "      <th>weight</th>\n",
       "      <th>p_val</th>\n",
       "    </tr>\n",
       "  </thead>\n",
       "  <tbody>\n",
       "    <tr>\n",
       "      <th>const</th>\n",
       "      <td>const</td>\n",
       "      <td>6.3375</td>\n",
       "      <td>0.000107</td>\n",
       "    </tr>\n",
       "    <tr>\n",
       "      <th>price_2</th>\n",
       "      <td>price_2</td>\n",
       "      <td>-1.0250</td>\n",
       "      <td>0.003256</td>\n",
       "    </tr>\n",
       "    <tr>\n",
       "      <th>timeToSta_2</th>\n",
       "      <td>timeToSta_2</td>\n",
       "      <td>-0.5750</td>\n",
       "      <td>0.010238</td>\n",
       "    </tr>\n",
       "    <tr>\n",
       "      <th>isParking_2</th>\n",
       "      <td>isParking_2</td>\n",
       "      <td>-0.0250</td>\n",
       "      <td>0.711325</td>\n",
       "    </tr>\n",
       "    <tr>\n",
       "      <th>direction_2</th>\n",
       "      <td>direction_2</td>\n",
       "      <td>-0.3750</td>\n",
       "      <td>0.034766</td>\n",
       "    </tr>\n",
       "  </tbody>\n",
       "</table>\n",
       "</div>"
      ],
      "text/plain": [
       "                    name  weight     p_val\n",
       "const              const  6.3375  0.000107\n",
       "price_2          price_2 -1.0250  0.003256\n",
       "timeToSta_2  timeToSta_2 -0.5750  0.010238\n",
       "isParking_2  isParking_2 -0.0250  0.711325\n",
       "direction_2  direction_2 -0.3750  0.034766"
      ]
     },
     "execution_count": 8,
     "metadata": {},
     "output_type": "execute_result"
    }
   ],
   "source": [
    "df_res = pd.DataFrame({\n",
    "    'name': result.params.keys()\n",
    "    , 'weight': result.params.values\n",
    "    , 'p_val': result.pvalues\n",
    "})\n",
    "df_res.head()"
   ]
  },
  {
   "cell_type": "code",
   "execution_count": 9,
   "metadata": {},
   "outputs": [
    {
     "data": {
      "text/html": [
       "<div>\n",
       "<style scoped>\n",
       "    .dataframe tbody tr th:only-of-type {\n",
       "        vertical-align: middle;\n",
       "    }\n",
       "\n",
       "    .dataframe tbody tr th {\n",
       "        vertical-align: top;\n",
       "    }\n",
       "\n",
       "    .dataframe thead th {\n",
       "        text-align: right;\n",
       "    }\n",
       "</style>\n",
       "<table border=\"1\" class=\"dataframe\">\n",
       "  <thead>\n",
       "    <tr style=\"text-align: right;\">\n",
       "      <th></th>\n",
       "      <th>name</th>\n",
       "      <th>weight</th>\n",
       "      <th>p_val</th>\n",
       "    </tr>\n",
       "  </thead>\n",
       "  <tbody>\n",
       "    <tr>\n",
       "      <th>4</th>\n",
       "      <td>direction_2</td>\n",
       "      <td>-0.375</td>\n",
       "      <td>0.034766</td>\n",
       "    </tr>\n",
       "    <tr>\n",
       "      <th>5</th>\n",
       "      <td>direction_3</td>\n",
       "      <td>-0.675</td>\n",
       "      <td>0.011128</td>\n",
       "    </tr>\n",
       "    <tr>\n",
       "      <th>3</th>\n",
       "      <td>isParking_2</td>\n",
       "      <td>-0.025</td>\n",
       "      <td>0.711325</td>\n",
       "    </tr>\n",
       "    <tr>\n",
       "      <th>1</th>\n",
       "      <td>price_2</td>\n",
       "      <td>-1.025</td>\n",
       "      <td>0.003256</td>\n",
       "    </tr>\n",
       "    <tr>\n",
       "      <th>2</th>\n",
       "      <td>timeToSta_2</td>\n",
       "      <td>-0.575</td>\n",
       "      <td>0.010238</td>\n",
       "    </tr>\n",
       "  </tbody>\n",
       "</table>\n",
       "</div>"
      ],
      "text/plain": [
       "          name  weight     p_val\n",
       "4  direction_2  -0.375  0.034766\n",
       "5  direction_3  -0.675  0.011128\n",
       "3  isParking_2  -0.025  0.711325\n",
       "1      price_2  -1.025  0.003256\n",
       "2  timeToSta_2  -0.575  0.010238"
      ]
     },
     "execution_count": 9,
     "metadata": {},
     "output_type": "execute_result"
    }
   ],
   "source": [
    "# グラフ表示のため行追加\n",
    "# ※多重共線性回避のために削除した項目は偏回帰係数0\n",
    "df_add = pd.DataFrame( columns=df_res.columns)\n",
    "df_graph = df_res.append(df_add , ignore_index=True)\n",
    "df_graph = df_graph.drop(df_graph.index[[0]])\n",
    "df_graph = df_graph.sort_values('name')\n",
    "df_graph"
   ]
  },
  {
   "cell_type": "code",
   "execution_count": 10,
   "metadata": {},
   "outputs": [
    {
     "data": {
      "image/png": "[encoded data removed]",
      "text/plain": [
       "<Figure size 432x288 with 1 Axes>"
      ]
     },
     "metadata": {
      "needs_background": "light"
     },
     "output_type": "display_data"
    }
   ],
   "source": [
    "# 前処理\n",
    "df_graph['abs_weight'] = np.abs(df_graph['weight'])\n",
    "df_graph['color'] = [\"blue\" if s < 0.05 else \"red\" for s in df_graph['p_val']] \n",
    "df_graph = df_graph.sort_values(by='abs_weight', ascending=True)\n",
    "# グラフ表示\n",
    "xbar = np.arange(len(df_graph['weight']))\n",
    "plt.barh(xbar, df_graph['weight'], color=df_graph['color'])\n",
    "plt.yticks(xbar, labels=df_graph['name'])\n",
    "plt.show()"
   ]
  },
  {
   "cell_type": "markdown",
   "metadata": {},
   "source": [
    "# 部分効用値をプロット"
   ]
  },
  {
   "cell_type": "code",
   "execution_count": 17,
   "metadata": {},
   "outputs": [],
   "source": [
    "df_graph.head()\n",
    "ind_price_300 = df_graph['name']\n",
    "\n",
    "x = [1, 2, 3]\n",
    "y = [-0.86, -0.4, 0] \n",
    "plt.plot(x, y, marker='o', c='red', linestyle=\"solid\")\n",
    "plt.txt\n",
    "\n",
    "xx = [5,6]\n",
    "yy = [0,0.3]\n",
    "plt.plot(xx, yy, marker='^', c='green', linestyle=\"dashed\")\n",
    "\n",
    "xxx = [8,9,10]\n",
    "yyy = [0,0.07,0.09]\n",
    "plt.plot(xxx, yyy, marker='^', c='blue', linestyle=\"dashed\")\n",
    "plt.show()"
   ]
  }
 ],
 "metadata": {
  "kernelspec": {
   "display_name": "Python 3 (ipykernel)",
   "language": "python",
   "name": "python3"
  },
  "language_info": {
   "codemirror_mode": {
    "name": "ipython",
    "version": 3
   },
   "file_extension": ".py",
   "mimetype": "text/x-python",
   "name": "python",
   "nbconvert_exporter": "python",
   "pygments_lexer": "ipython3",
   "version": "3.8.12"
  },
  "varInspector": {
   "cols": {
    "lenName": 16,
    "lenType": "20",
    "lenVar": "28"
   },
   "kernels_config": {
    "python": {
     "delete_cmd_postfix": "",
     "delete_cmd_prefix": "del ",
     "library": "var_list.py",
     "varRefreshCmd": "print(var_dic_list())"
    },
    "r": {
     "delete_cmd_postfix": ") ",
     "delete_cmd_prefix": "rm(",
     "library": "var_list.r",
     "varRefreshCmd": "cat(var_dic_list()) "
    }
   },
   "position": {
    "height": "320.819px",
    "left": "1300.89px",
    "right": "20px",
    "top": "397px",
    "width": "350px"
   },
   "types_to_exclude": [
    "module",
    "function",
    "builtin_function_or_method",
    "instance",
    "_Feature"
   ],
   "window_display": true
  }
 },
 "nbformat": 4,
 "nbformat_minor": 4
}
